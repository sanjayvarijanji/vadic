{
  "nbformat": 4,
  "nbformat_minor": 0,
  "metadata": {
    "colab": {
      "name": "programms",
      "provenance": [],
      "collapsed_sections": [],
      "authorship_tag": "ABX9TyO2meB2Yyyzj1bkIrExpjKS",
      "include_colab_link": true
    },
    "kernelspec": {
      "name": "python3",
      "display_name": "Python 3"
    },
    "language_info": {
      "name": "python"
    }
  },
  "cells": [
    {
      "cell_type": "markdown",
      "metadata": {
        "id": "view-in-github",
        "colab_type": "text"
      },
      "source": [
        "<a href=\"https://colab.research.google.com/github/sanjayvarijanji/vadic/blob/main/programms.ipynb\" target=\"_parent\"><img src=\"https://colab.research.google.com/assets/colab-badge.svg\" alt=\"Open In Colab\"/></a>"
      ]
    },
    {
      "cell_type": "code",
      "metadata": {
        "colab": {
          "base_uri": "https://localhost:8080/"
        },
        "id": "Vul23ZIydLua",
        "outputId": "725323f4-7333-4e63-eb75-4ee54f0a4175"
      },
      "source": [
        "# creating \"hello world\"\n",
        "print(\"hello world:\")\n"
      ],
      "execution_count": 15,
      "outputs": [
        {
          "output_type": "stream",
          "text": [
            "hello world:\n"
          ],
          "name": "stdout"
        }
      ]
    },
    {
      "cell_type": "code",
      "metadata": {
        "colab": {
          "base_uri": "https://localhost:8080/"
        },
        "id": "FeJKTzb5pDnz",
        "outputId": "25c899f4-8a11-4166-fae2-e3b9e78c6523"
      },
      "source": [
        "x= 10\n",
        "if x%2==0:\n",
        "  print(\"even number\")\n",
        "else:\n",
        "  print(\"odd number\")  \n"
      ],
      "execution_count": 16,
      "outputs": [
        {
          "output_type": "stream",
          "text": [
            "even number\n"
          ],
          "name": "stdout"
        }
      ]
    }
  ]
}